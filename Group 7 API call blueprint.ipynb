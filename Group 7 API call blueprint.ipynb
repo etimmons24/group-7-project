{
 "cells": [
  {
   "cell_type": "code",
   "execution_count": 1,
   "metadata": {},
   "outputs": [],
   "source": [
    "#Comment to force a push to remote"
   ]
  },
  {
   "cell_type": "code",
   "execution_count": 1,
   "metadata": {},
   "outputs": [],
   "source": [
    "# Dependencies\n",
    "import requests\n",
    "import pandas as pd\n",
    "import json"
   ]
  },
  {
   "cell_type": "code",
   "execution_count": 2,
   "metadata": {},
   "outputs": [],
   "source": [
    "post_request_url = \"https://api.chartmetric.com/api/token\"\n",
    "refresh_api_token = #Iykyk"
   ]
  },
  {
   "cell_type": "code",
   "execution_count": 7,
   "metadata": {},
   "outputs": [],
   "source": [
    "post_results = requests.post(post_request_url, data = {\"refreshtoken\":refresh_api_token}, json=True)"
   ]
  },
  {
   "cell_type": "code",
   "execution_count": null,
   "metadata": {},
   "outputs": [],
   "source": [
    "print(post_results.text)"
   ]
  },
  {
   "cell_type": "code",
   "execution_count": 23,
   "metadata": {},
   "outputs": [],
   "source": [
    "api_token = post_results.json()['token']"
   ]
  },
  {
   "cell_type": "code",
   "execution_count": 49,
   "metadata": {},
   "outputs": [],
   "source": [
    "artist_id = 3957353\n",
    "artist_url = f\"https://api.chartmetric.com/api/artist/{artist_id}/career\""
   ]
  },
  {
   "cell_type": "code",
   "execution_count": 50,
   "metadata": {},
   "outputs": [],
   "source": [
    "headers = {\"Authorization\": f\"Bearer {api_token}\"}"
   ]
  },
  {
   "cell_type": "code",
   "execution_count": 51,
   "metadata": {},
   "outputs": [],
   "source": [
    "artist_results = requests.get(artist_url, headers = headers)"
   ]
  },
  {
   "cell_type": "code",
   "execution_count": 52,
   "metadata": {},
   "outputs": [
    {
     "data": {
      "text/plain": [
       "{'error': \"'legacy' is not allowed\"}"
      ]
     },
     "execution_count": 52,
     "metadata": {},
     "output_type": "execute_result"
    }
   ],
   "source": [
    "artist_results.json()"
   ]
  },
  {
   "cell_type": "code",
   "execution_count": 48,
   "metadata": {},
   "outputs": [
    {
     "data": {
      "text/html": [
       "<div>\n",
       "<style scoped>\n",
       "    .dataframe tbody tr th:only-of-type {\n",
       "        vertical-align: middle;\n",
       "    }\n",
       "\n",
       "    .dataframe tbody tr th {\n",
       "        vertical-align: top;\n",
       "    }\n",
       "\n",
       "    .dataframe thead th {\n",
       "        text-align: right;\n",
       "    }\n",
       "</style>\n",
       "<table border=\"1\" class=\"dataframe\">\n",
       "  <thead>\n",
       "    <tr style=\"text-align: right;\">\n",
       "      <th></th>\n",
       "      <th>timestp</th>\n",
       "      <th>stage</th>\n",
       "      <th>stage_score</th>\n",
       "      <th>momentum</th>\n",
       "      <th>momentum_score</th>\n",
       "    </tr>\n",
       "  </thead>\n",
       "  <tbody>\n",
       "    <tr>\n",
       "      <th>0</th>\n",
       "      <td>2024-05-08</td>\n",
       "      <td>superstar</td>\n",
       "      <td>18</td>\n",
       "      <td>growth</td>\n",
       "      <td>69</td>\n",
       "    </tr>\n",
       "    <tr>\n",
       "      <th>1</th>\n",
       "      <td>2024-05-05</td>\n",
       "      <td>superstar</td>\n",
       "      <td>17</td>\n",
       "      <td>growth</td>\n",
       "      <td>72</td>\n",
       "    </tr>\n",
       "    <tr>\n",
       "      <th>2</th>\n",
       "      <td>2024-05-01</td>\n",
       "      <td>superstar</td>\n",
       "      <td>17</td>\n",
       "      <td>growth</td>\n",
       "      <td>74</td>\n",
       "    </tr>\n",
       "    <tr>\n",
       "      <th>3</th>\n",
       "      <td>2024-04-28</td>\n",
       "      <td>superstar</td>\n",
       "      <td>17</td>\n",
       "      <td>growth</td>\n",
       "      <td>76</td>\n",
       "    </tr>\n",
       "    <tr>\n",
       "      <th>4</th>\n",
       "      <td>2024-04-24</td>\n",
       "      <td>superstar</td>\n",
       "      <td>17</td>\n",
       "      <td>growth</td>\n",
       "      <td>77</td>\n",
       "    </tr>\n",
       "    <tr>\n",
       "      <th>5</th>\n",
       "      <td>2024-04-21</td>\n",
       "      <td>superstar</td>\n",
       "      <td>17</td>\n",
       "      <td>growth</td>\n",
       "      <td>78</td>\n",
       "    </tr>\n",
       "    <tr>\n",
       "      <th>6</th>\n",
       "      <td>2024-04-17</td>\n",
       "      <td>superstar</td>\n",
       "      <td>17</td>\n",
       "      <td>growth</td>\n",
       "      <td>78</td>\n",
       "    </tr>\n",
       "    <tr>\n",
       "      <th>7</th>\n",
       "      <td>2024-04-14</td>\n",
       "      <td>superstar</td>\n",
       "      <td>16</td>\n",
       "      <td>growth</td>\n",
       "      <td>78</td>\n",
       "    </tr>\n",
       "    <tr>\n",
       "      <th>8</th>\n",
       "      <td>2024-04-10</td>\n",
       "      <td>superstar</td>\n",
       "      <td>16</td>\n",
       "      <td>growth</td>\n",
       "      <td>77</td>\n",
       "    </tr>\n",
       "    <tr>\n",
       "      <th>9</th>\n",
       "      <td>2024-03-20</td>\n",
       "      <td>superstar</td>\n",
       "      <td>11</td>\n",
       "      <td>growth</td>\n",
       "      <td>77</td>\n",
       "    </tr>\n",
       "  </tbody>\n",
       "</table>\n",
       "</div>"
      ],
      "text/plain": [
       "      timestp      stage  stage_score momentum  momentum_score\n",
       "0  2024-05-08  superstar           18   growth              69\n",
       "1  2024-05-05  superstar           17   growth              72\n",
       "2  2024-05-01  superstar           17   growth              74\n",
       "3  2024-04-28  superstar           17   growth              76\n",
       "4  2024-04-24  superstar           17   growth              77\n",
       "5  2024-04-21  superstar           17   growth              78\n",
       "6  2024-04-17  superstar           17   growth              78\n",
       "7  2024-04-14  superstar           16   growth              78\n",
       "8  2024-04-10  superstar           16   growth              77\n",
       "9  2024-03-20  superstar           11   growth              77"
      ]
     },
     "execution_count": 48,
     "metadata": {},
     "output_type": "execute_result"
    }
   ],
   "source": [
    "pd.json_normalize(artist_results.json()['obj'])"
   ]
  },
  {
   "cell_type": "code",
   "execution_count": null,
   "metadata": {},
   "outputs": [],
   "source": []
  }
 ],
 "metadata": {
  "kernelspec": {
   "display_name": "ai_bootcamp",
   "language": "python",
   "name": "ai_bootcamp"
  },
  "language_info": {
   "codemirror_mode": {
    "name": "ipython",
    "version": 3
   },
   "file_extension": ".py",
   "mimetype": "text/x-python",
   "name": "python",
   "nbconvert_exporter": "python",
   "pygments_lexer": "ipython3",
   "version": "3.12.2"
  }
 },
 "nbformat": 4,
 "nbformat_minor": 4
}
